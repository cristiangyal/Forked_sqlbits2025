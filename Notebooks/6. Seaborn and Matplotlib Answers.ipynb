{
 "cells": [
  {
   "cell_type": "markdown",
   "id": "0b4624b4",
   "metadata": {},
   "source": [
    "# Seaborn and Matplotlib Practice\n",
    "Welcome! This notebook covers essential plots using Seaborn and Matplotlib."
   ]
  },
  {
   "cell_type": "code",
   "execution_count": null,
   "id": "3791cc2a",
   "metadata": {},
   "outputs": [],
   "source": [
    "import seaborn as sns\n",
    "import matplotlib.pyplot as plt\n",
    "import pandas as pd\n",
    "\n",
    "# Load example dataset\n",
    "df = sns.load_dataset(\"tips\")\n",
    "df.head()"
   ]
  },
  {
   "cell_type": "markdown",
   "id": "5e104a1b",
   "metadata": {},
   "source": [
    "## 🔹 Seaborn: Histogram"
   ]
  },
  {
   "cell_type": "code",
   "execution_count": null,
   "id": "08049e82",
   "metadata": {},
   "outputs": [],
   "source": [
    "sns.histplot(df['total_bill'])\n",
    "plt.show()"
   ]
  },
  {
   "cell_type": "markdown",
   "id": "bc2eb414",
   "metadata": {},
   "source": [
    "## 🔹 Seaborn: KDE"
   ]
  },
  {
   "cell_type": "code",
   "execution_count": null,
   "id": "cb2ab660",
   "metadata": {},
   "outputs": [],
   "source": [
    "sns.kdeplot(df['tip'])\n",
    "plt.show()"
   ]
  },
  {
   "cell_type": "markdown",
   "id": "0c5a5a00",
   "metadata": {},
   "source": [
    "## 🔹 Seaborn: Boxplot"
   ]
  },
  {
   "cell_type": "code",
   "execution_count": null,
   "id": "b8f19bae",
   "metadata": {},
   "outputs": [],
   "source": [
    "sns.boxplot(x='day', y='total_bill', data=df)\n",
    "plt.show()"
   ]
  },
  {
   "cell_type": "markdown",
   "id": "6fda855c",
   "metadata": {},
   "source": [
    "## 🔹 Seaborn: Scatterplot"
   ]
  },
  {
   "cell_type": "code",
   "execution_count": null,
   "id": "28a5e12e",
   "metadata": {},
   "outputs": [],
   "source": [
    "sns.scatterplot(x='total_bill', y='tip', data=df)\n",
    "plt.show()"
   ]
  },
  {
   "cell_type": "markdown",
   "id": "5e6381d0",
   "metadata": {},
   "source": [
    "## 🔹 Seaborn: Barplot"
   ]
  },
  {
   "cell_type": "code",
   "execution_count": null,
   "id": "cb611b35",
   "metadata": {},
   "outputs": [],
   "source": [
    "sns.barplot(x='smoker', y='tip', data=df)\n",
    "plt.show()"
   ]
  },
  {
   "cell_type": "markdown",
   "id": "7bc307d8",
   "metadata": {},
   "source": [
    "## 🔸 Matplotlib: Line Chart"
   ]
  },
  {
   "cell_type": "code",
   "execution_count": null,
   "id": "3a0282d0",
   "metadata": {},
   "outputs": [],
   "source": [
    "plt.plot([1, 2, 3, 4], [2, 4, 6, 8])\n",
    "plt.title('Simple Line Chart')\n",
    "plt.show()"
   ]
  },
  {
   "cell_type": "markdown",
   "id": "6556b144",
   "metadata": {},
   "source": [
    "## 🔸 Matplotlib: Subplots"
   ]
  },
  {
   "cell_type": "code",
   "execution_count": null,
   "id": "b9163a17",
   "metadata": {},
   "outputs": [],
   "source": [
    "plt.subplot(1,2,1)\n",
    "plt.plot([1, 2, 3], [3, 2, 1])\n",
    "plt.title('Left')\n",
    "plt.subplot(1,2,2)\n",
    "plt.plot([1, 2, 3], [1, 2, 3])\n",
    "plt.title('Right')\n",
    "plt.tight_layout()\n",
    "plt.show()"
   ]
  },
  {
   "cell_type": "markdown",
   "id": "e3bcfb64",
   "metadata": {},
   "source": [
    "## 🔸 Matplotlib: Titles and Labels"
   ]
  },
  {
   "cell_type": "code",
   "execution_count": null,
   "id": "3fd07ed1",
   "metadata": {},
   "outputs": [],
   "source": [
    "plt.plot([10, 20, 30], [1, 3, 2])\n",
    "plt.title('My Plot')\n",
    "plt.xlabel('X axis')\n",
    "plt.ylabel('Y axis')\n",
    "plt.grid(True)\n",
    "plt.show()"
   ]
  }
 ],
 "metadata": {},
 "nbformat": 4,
 "nbformat_minor": 5
}
