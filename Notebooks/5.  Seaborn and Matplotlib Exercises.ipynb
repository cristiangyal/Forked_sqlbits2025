{
 "cells": [
  {
   "cell_type": "markdown",
   "id": "0b4624b4",
   "metadata": {},
   "source": [
    "# Seaborn and Matplotlib Practice\n",
    "Welcome! This notebook covers essential plots using Seaborn and Matplotlib."
   ]
  },
  {
   "cell_type": "code",
   "execution_count": null,
   "id": "3791cc2a",
   "metadata": {},
   "outputs": [],
   "source": [
    "import seaborn as sns\n",
    "import matplotlib.pyplot as plt\n",
    "import pandas as pd\n",
    "\n",
    "# Load example dataset\n",
    "df = sns.load_dataset(\"tips\")\n",
    "df.head()"
   ]
  },
  {
   "cell_type": "markdown",
   "id": "f3be040e",
   "metadata": {},
   "source": [
    "## 🔹 Seaborn: Histogram\n",
    "Plot a histogram of total bills."
   ]
  },
  {
   "cell_type": "code",
   "execution_count": null,
   "id": "2c7aaa12",
   "metadata": {},
   "outputs": [],
   "source": [
    "# 💡 Hint: Use sns.histplot(df['total_bill'])"
   ]
  },
  {
   "cell_type": "markdown",
   "id": "17214c50",
   "metadata": {},
   "source": [
    "## 🔹 Seaborn: KDE\n",
    "Overlay a KDE plot for tip values."
   ]
  },
  {
   "cell_type": "code",
   "execution_count": null,
   "id": "da4d3c42",
   "metadata": {},
   "outputs": [],
   "source": [
    "# 💡 Hint: Use sns.kdeplot(df['tip'])"
   ]
  },
  {
   "cell_type": "markdown",
   "id": "92051828",
   "metadata": {},
   "source": [
    "## 🔹 Seaborn: Boxplot\n",
    "Compare total bill distribution by day."
   ]
  },
  {
   "cell_type": "code",
   "execution_count": null,
   "id": "2981a8ae",
   "metadata": {},
   "outputs": [],
   "source": [
    "# 💡 Hint: Use sns.boxplot(x='day', y='total_bill', data=df)"
   ]
  },
  {
   "cell_type": "markdown",
   "id": "f423929e",
   "metadata": {},
   "source": [
    "## 🔹 Seaborn: Scatterplot\n",
    "Explore the relationship between total bill and tip."
   ]
  },
  {
   "cell_type": "code",
   "execution_count": null,
   "id": "2cc4febb",
   "metadata": {},
   "outputs": [],
   "source": [
    "# 💡 Hint: Use sns.scatterplot(x='total_bill', y='tip', data=df)"
   ]
  },
  {
   "cell_type": "markdown",
   "id": "2de0351e",
   "metadata": {},
   "source": [
    "## 🔹 Seaborn: Barplot\n",
    "Compare average tips by smoker status."
   ]
  },
  {
   "cell_type": "code",
   "execution_count": null,
   "id": "719d0230",
   "metadata": {},
   "outputs": [],
   "source": [
    "# 💡 Hint: Use sns.barplot(x='smoker', y='tip', data=df)"
   ]
  },
  {
   "cell_type": "markdown",
   "id": "1b7b1805",
   "metadata": {},
   "source": [
    "## 🔸 Matplotlib: Line Chart\n",
    "Create a basic line chart using Matplotlib."
   ]
  },
  {
   "cell_type": "code",
   "execution_count": null,
   "id": "f14999f9",
   "metadata": {},
   "outputs": [],
   "source": [
    "# 💡 Hint: Use plt.plot() with some synthetic data"
   ]
  },
  {
   "cell_type": "markdown",
   "id": "e0a65b35",
   "metadata": {},
   "source": [
    "## 🔸 Matplotlib: Subplots\n",
    "Display multiple plots in one figure."
   ]
  },
  {
   "cell_type": "code",
   "execution_count": null,
   "id": "5677a6ad",
   "metadata": {},
   "outputs": [],
   "source": [
    "# 💡 Hint: Use plt.subplot(1,2,1) and plt.subplot(1,2,2)"
   ]
  },
  {
   "cell_type": "markdown",
   "id": "58c3e6a1",
   "metadata": {},
   "source": [
    "## 🔸 Matplotlib: Titles and Labels\n",
    "Add titles, axis labels and grid to a chart."
   ]
  },
  {
   "cell_type": "code",
   "execution_count": null,
   "id": "157c2ffd",
   "metadata": {},
   "outputs": [],
   "source": [
    "# 💡 Hint: Use plt.title(), plt.xlabel(), plt.grid()"
   ]
  }
 ],
 "metadata": {},
 "nbformat": 4,
 "nbformat_minor": 5
}
